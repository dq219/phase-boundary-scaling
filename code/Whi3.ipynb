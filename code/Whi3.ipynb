{
 "cells": [
  {
   "cell_type": "code",
   "execution_count": 1,
   "id": "d003ecdf",
   "metadata": {},
   "outputs": [],
   "source": [
    "%matplotlib inline\n",
    "import numpy as np\n",
    "import scipy as sp\n",
    "import matplotlib.pyplot as plt\n",
    "plt.style.use(r'mplstyle')\n",
    "\n",
    "import matplotlib as mpl\n",
    "import pandas as pd\n",
    "from sklearn.svm import SVC\n",
    "from sklearn.utils import resample\n",
    "from mpl_toolkits.axes_grid1.inset_locator import inset_axes\n",
    "from matplotlib.transforms import ScaledTranslation\n",
    "from scipy.optimize import minimize\n",
    "\n",
    "def cm2inch(*tupl):\n",
    "    inch = 2.54\n",
    "    if isinstance(tupl[0], tuple):\n",
    "        return tuple(i/inch for i in tupl[0])\n",
    "    else:\n",
    "        return tuple(i/inch for i in tupl)\n",
    "\n",
    "colorsBlue = ['#b3e5fc', '#0091ea']\n",
    "colorsRed = ['#f18e86', '#e83b47']\n",
    "colorsYellow = ['#fec787', '#fb9d32']\n",
    "colorsPurple = ['#d69bc5' ,'#a8509f']\n",
    "colorsGreyOrange = ['#c3c3c3', '#f8a834']\n",
    "colors = [colorsBlue, colorsRed, colorsYellow, colorsPurple, colorsGreyOrange]"
   ]
  },
  {
   "cell_type": "code",
   "execution_count": 2,
   "id": "8233627d-7386-450c-9229-b6274aa3fe9d",
   "metadata": {},
   "outputs": [],
   "source": [
    "def fit_svc(data, label):\n",
    "    svc = SVC(kernel = 'linear', class_weight = 'balanced')\n",
    "    svc.fit(data, label)\n",
    "    w = svc.coef_[0]           # w consists of 2 elements\n",
    "    a = - svc.intercept_[0] / w[1]\n",
    "    b = - w[0] / w[1]\n",
    "    return a, b\n",
    "\n",
    "def analyse_loglog_data(xx, yy, label, repeats = 50, nsample = 5000):\n",
    "    # fit power law\n",
    "    lnx = np.log10(xx)\n",
    "    lny = np.log10(yy)\n",
    "    data = np.array([lnx, lny]).T\n",
    "    \n",
    "    molar_ratio = []\n",
    "    B = []\n",
    "    A = []\n",
    "    for _ in range(repeats):\n",
    "        print(_, end = '\\r')\n",
    "        data_resampled, label_resampled = resample(data, label, replace = True, n_samples = min(nsample, len(data)))\n",
    "        a, b = fit_svc(data_resampled, label_resampled)\n",
    "        # a, b = fit_crosstalk(data_resampled, label_resampled, x0 = [b, a])\n",
    "        molar_ratio.append(-1/b)\n",
    "        B.append(b)\n",
    "        A.append(a)\n",
    "    molar_ratio_avg = np.mean(molar_ratio)\n",
    "    molar_ratio_std = np.std(molar_ratio)\n",
    "    B_avg = np.mean(B)\n",
    "    B_std = np.std(B)\n",
    "    A_avg = np.mean(A)\n",
    "    A_std = np.std(A)\n",
    "    \n",
    "    return [molar_ratio_avg, molar_ratio_std, A_avg, A_std, B_avg, B_std]\n",
    "\n",
    "def fit_crosstalk(data, label, x0 = [1, 1]):\n",
    "    def crosstalk(params):\n",
    "        k = params[0]\n",
    "        y = params[1]\n",
    "        cost = 0\n",
    "        gBottom = data[label == False]\n",
    "        gTop = data[label == True]\n",
    "        BottomInTop = gBottom[gBottom[:, 1] > y + k * gBottom[:, 0]]\n",
    "        TopInBottom = gTop[gTop[:, 1] < y + k * gTop[:, 0]]\n",
    "        cost += sum(abs((BottomInTop[:, 1] - (y + k * BottomInTop[:, 0]))))\n",
    "        cost += sum(abs((TopInBottom[:, 1] - (y + k * TopInBottom[:, 0]))))\n",
    "        return cost\n",
    "    res = minimize(crosstalk, x0 = x0)\n",
    "    [_k, _y] = res.x\n",
    "    return _y, _k\n",
    "\n",
    "def analyse_linlog_data(xx, yy, label, repeats = 50, nsample = 5000):\n",
    "\n",
    "    lny = np.log(yy)\n",
    "    data = np.array([xx, lny]).T\n",
    "    \n",
    "    B = []\n",
    "    A = []\n",
    "    for _ in range(repeats):\n",
    "        data_resampled, label_resampled = resample(data, label, replace = True, n_samples = min(nsample, len(data)))\n",
    "        a, b = fit_svc(data_resampled, label_resampled)\n",
    "        # in this script we perform a second step of minimising the cross-talk between the two groups of points\n",
    "        # this is due to the sparsity of data - SVM performs poorly in this case\n",
    "        a, b = fit_crosstalk(data_resampled, label_resampled, x0 = [b, a])\n",
    "        B.append(b)\n",
    "        A.append(a)\n",
    "    B_avg = np.mean(B)\n",
    "    B_std = np.std(B)\n",
    "    A_avg = np.mean(A)\n",
    "    A_std = np.std(A)\n",
    "    \n",
    "    return [A_avg, A_std, B_avg, B_std]"
   ]
  },
  {
   "cell_type": "code",
   "execution_count": 3,
   "id": "2e111370-5853-41de-b3a3-65878b14b8df",
   "metadata": {},
   "outputs": [],
   "source": [
    "df = pd.read_csv('../data/Whi3_Lin.csv').sample(frac = 1)"
   ]
  },
  {
   "cell_type": "code",
   "execution_count": 4,
   "id": "9964223c-e512-4fe6-828d-1d1415545962",
   "metadata": {},
   "outputs": [
    {
     "data": {
      "text/plain": [
       "Index(['Whi3 (uM)', 'RNA (uM)', 'RNA type', 'feature'], dtype='object')"
      ]
     },
     "execution_count": 4,
     "metadata": {},
     "output_type": "execute_result"
    }
   ],
   "source": [
    "df.columns"
   ]
  },
  {
   "cell_type": "code",
   "execution_count": 5,
   "id": "3f277369",
   "metadata": {},
   "outputs": [],
   "source": [
    "RNAs = [#'CLN3',\n",
    "        'BNI1',\n",
    "        'BNI1 mutant',\n",
    "        #'SPA2'\n",
    "        ]\n",
    "RNALen = [#1594,\n",
    "          6689,\n",
    "          6689,\n",
    "          #10908,\n",
    "         ]\n",
    "xName = 'Whi3 (uM)'\n",
    "yName = 'RNA (uM)'"
   ]
  },
  {
   "cell_type": "code",
   "execution_count": 6,
   "id": "30cb5753-c3ce-4cb6-988e-8aeb82ae7167",
   "metadata": {},
   "outputs": [
    {
     "name": "stdout",
     "output_type": "stream",
     "text": [
      "For BNI1, molar ratio of RNA (uM) against Whi3 (uM) is 1.885+-0.767\n",
      "For BNI1 mutant, molar ratio of RNA (uM) against Whi3 (uM) is 0.694+-0.208\n"
     ]
    }
   ],
   "source": [
    "RES = []\n",
    "for i in range(len(RNAs)):\n",
    "    _df = df[df['RNA type'] == RNAs[i]]\n",
    "    _x = _df[xName].values\n",
    "    _y = _df[yName].values\n",
    "    _p = _df['feature'].values\n",
    "    _mask = (_x < 100) & (_y < 0.1)\n",
    "    \n",
    "    res = analyse_loglog_data(_x[_mask], _y[_mask], _p[_mask], repeats = 50, nsample = int(sum(_mask)))\n",
    "    print(r'For {0}, molar ratio of {1} against {2} is {3:.3f}+-{4:.3f}'.format(RNAs[i], yName, xName, res[0], res[1]))\n",
    "    RES.append([_x, _y, _p, res])"
   ]
  },
  {
   "cell_type": "code",
   "execution_count": 7,
   "id": "e6a5dbf7",
   "metadata": {},
   "outputs": [
    {
     "data": {
      "image/png": "[encoded data removed]",
      "text/plain": [
       "<Figure size 354.331x177.165 with 2 Axes>"
      ]
     },
     "metadata": {},
     "output_type": "display_data"
    }
   ],
   "source": [
    "fig, axes = plt.subplots(1, len(RNAs), sharex = True, sharey = True, figsize = cm2inch(9, 4.5))\n",
    "\n",
    "for i in range(len(RNAs)):\n",
    "    _df = df[df['RNA type'] == RNAs[i]]\n",
    "    _x = _df[xName].values\n",
    "    _y = _df[yName].values\n",
    "    _p = _df['feature'].values\n",
    "\n",
    "    _mask = (_x < 100) & (_y < 0.1)\n",
    "    _c = [colors[0][j] for j in _p.astype(int)[_mask]]\n",
    "    _c2 = [[colors[4][0], 'black'][j] for j in _p.astype(int)[_mask == False]]\n",
    "    \n",
    "    axes[i].scatter(_x[_mask], _y[_mask], c = _c, s = 5)\n",
    "    axes[i].scatter(_x[_mask == False], _y[_mask == False], c = _c2, s = 5)\n",
    "\n",
    "    [molar_ratio_avg, molar_ratio_std, A_avg, A_std, B_avg, B_std] = RES[i][3]\n",
    "    x_fit = np.logspace(-4, 4, 500)\n",
    "    y_fit_avg = 10 ** A_avg * x_fit ** B_avg\n",
    "    y_fit_iter = []\n",
    "    for _1 in [-1, +1]:\n",
    "        for _2 in [-1, +1]:\n",
    "            y_fit_iter.append(10 ** (A_avg + _1 * A_std) * x_fit ** (B_avg + _2 * B_std))\n",
    "    y_fit_max = np.max(y_fit_iter, axis = 0)\n",
    "    y_fit_min = np.min(y_fit_iter, axis = 0)\n",
    "    \n",
    "    axes[i].plot(x_fit, y_fit_avg, color = 'black', lw = 1)\n",
    "    axes[i].plot(x_fit, y_fit_min, color = 'black', lw = 1, linestyle = 'dashed')\n",
    "    axes[i].plot(x_fit, y_fit_max, color = 'black', lw = 1, linestyle = 'dashed')\n",
    "    \n",
    "    axes[i].set_xscale('log')\n",
    "    axes[i].set_yscale('log')\n",
    "    axes[i].set_xlabel(r'[Whi3]($\\upmu$M)')\n",
    "    #line, = axes[i].plot([1e-4, 1e2, 1e2], [1e-1, 1e-1, 1e-7], color = 'black', linestyle = 'dashed')\n",
    "    #line.set_dashes([1.5, 2.4])\n",
    "    #line.set_dash_capstyle('round')\n",
    "    \n",
    "    axes[i].set_title(f'{RNAs[i]}')#, $L$ = {RNALen[i]}')\n",
    "    axes[i].set_xticks([1e-4, 1e0, 1e4])\n",
    "\n",
    "axes[0].set_yticks([1e-7, 1e-3, 1e1])\n",
    "\n",
    "axes[0].set_xlim(1e-4, 1e4)\n",
    "axes[0].set_ylim(1e-7, 1e1)\n",
    "\n",
    "axes[0].set_ylabel(r'[RNA]($\\upmu$M)')\n",
    "plt.tight_layout()\n",
    "plt.savefig('plots/Whi3Lin_fitting.pdf')"
   ]
  },
  {
   "cell_type": "code",
   "execution_count": 8,
   "id": "127142ed",
   "metadata": {},
   "outputs": [],
   "source": [
    "Y = []\n",
    "dY = []\n",
    "for i in range(len(RNAs)):\n",
    "    res = RES[i][3]\n",
    "    Y.append(res[0])\n",
    "    dY.append(res[1])\n",
    "Y = np.array(Y)\n",
    "dY = np.array(dY)"
   ]
  },
  {
   "cell_type": "code",
   "execution_count": 9,
   "id": "3f7acfd2-608b-4037-a7b4-46e78557b7bc",
   "metadata": {},
   "outputs": [
    {
     "data": {
      "image/png": "[encoded data removed]",
      "text/plain": [
       "<Figure size 165.354x149.606 with 1 Axes>"
      ]
     },
     "metadata": {},
     "output_type": "display_data"
    }
   ],
   "source": [
    "plt.figure(figsize = cm2inch(4.2, 3.8))\n",
    "plt.bar(np.arange(len(RNAs)), Y, yerr = dY, capsize = 5, color = colors[2][0],\n",
    "        width = 0.4)\n",
    "\n",
    "plt.ylim(0,3)\n",
    "plt.yticks(np.arange(4))\n",
    "plt.xlim(-0.5, len(RNAs) - 0.5)\n",
    "\n",
    "plt.xticks(np.arange(len(RNAs)), RNAs)# [r'$\\textbf{a}$', r'$\\textbf{b}$', r'$\\textbf{c}$'])\n",
    "plt.ylabel(r'$c^{\\text{RNA}}_{+}/c^{\\text{Whi3}}_{+}$')\n",
    "plt.tight_layout()\n",
    "plt.savefig('../plots/Whi3Lin_barplot.pdf')"
   ]
  },
  {
   "cell_type": "code",
   "execution_count": null,
   "id": "5881bb21",
   "metadata": {},
   "outputs": [],
   "source": []
  },
  {
   "cell_type": "code",
   "execution_count": null,
   "id": "8aa580fa-b8ee-435f-829f-9730adcd549b",
   "metadata": {},
   "outputs": [],
   "source": []
  },
  {
   "cell_type": "code",
   "execution_count": 10,
   "id": "b265f599-56ac-466f-96a8-2d046c218569",
   "metadata": {},
   "outputs": [],
   "source": [
    "df2 = pd.read_csv('../data/Whi3_Zhang.csv').sample(frac = 1)"
   ]
  },
  {
   "cell_type": "code",
   "execution_count": 11,
   "id": "e41d1785-f4f6-4d4f-9da3-52def38b5dd1",
   "metadata": {},
   "outputs": [],
   "source": [
    "x2 = df2['CLN3(uM)'].values\n",
    "y2 = df2['Whi3(uM)'].values\n",
    "p2 = df2['feature'].values\n",
    "c2 = [colors[0][j] for j in p2.astype(int)]"
   ]
  },
  {
   "cell_type": "code",
   "execution_count": 12,
   "id": "66fa071d-d660-4723-b199-c0ba64201489",
   "metadata": {},
   "outputs": [],
   "source": [
    "res = analyse_linlog_data(x2, y2, p2, repeats = 10)\n",
    "[A_avg, A_std, B_avg, B_std] = res"
   ]
  },
  {
   "cell_type": "code",
   "execution_count": 13,
   "id": "f425cd99-663e-411b-9439-c47a12b353c3",
   "metadata": {},
   "outputs": [
    {
     "data": {
      "image/png": "[encoded data removed]",
      "text/plain": [
       "<Figure size 342.52x157.48 with 2 Axes>"
      ]
     },
     "metadata": {},
     "output_type": "display_data"
    }
   ],
   "source": [
    "fig, axes = plt.subplots(1, 2, figsize = cm2inch(8.7, 4))\n",
    "lin_grid = np.linspace(0, 1)\n",
    "log_grid = np.logspace(-4, 0)\n",
    "for i in range(2):\n",
    "    s_grid = lin_grid if i else log_grid\n",
    "    axes[i].scatter(x2, y2, c = c2, s = 10)\n",
    "\n",
    "    \n",
    "    y_fit_avg = np.exp(A_avg + B_avg * s_grid)\n",
    "    y_fit_iter = []\n",
    "    for _1 in [-1, +1]:\n",
    "        for _2 in [-1, +1]:\n",
    "            y_fit_iter.append(np.exp(A_avg + _1 * A_std + s_grid * (B_avg + _2 * B_std)))\n",
    "    y_fit_max = np.max(y_fit_iter, axis = 0)\n",
    "    y_fit_min = np.min(y_fit_iter, axis = 0)\n",
    "\n",
    "    axes[i].plot(s_grid, np.exp(A_avg + B_avg * s_grid), color = 'black')\n",
    "    axes[i].plot(s_grid, y_fit_max, color = 'black', linestyle = 'dashed')\n",
    "    axes[i].plot(s_grid, y_fit_min, color = 'black', linestyle = 'dashed')\n",
    "    axes[i].set_xlabel(r'[Whi3]($\\upmu$M)')\n",
    "axes[0].set_yscale('log')\n",
    "axes[0].set_xscale('log')\n",
    "axes[0].set_xlim(1e-4, 1e0)\n",
    "axes[0].set_ylim(1e-2, 1e1)\n",
    "axes[1].set_xlim(0, 0.3)\n",
    "axes[1].set_ylim(0, 10)\n",
    "axes[0].set_ylabel(r'[CLN3]($\\upmu$M)')\n",
    "plt.tight_layout()\n",
    "plt.savefig('plots/Whi3Zhang_fitting.pdf')"
   ]
  },
  {
   "cell_type": "code",
   "execution_count": null,
   "id": "0ee81dcd-dcb8-4f27-881c-e0eac3ba6ac2",
   "metadata": {},
   "outputs": [],
   "source": []
  },
  {
   "cell_type": "code",
   "execution_count": null,
   "id": "df46af27-cad5-487c-a515-89ae0825a150",
   "metadata": {},
   "outputs": [],
   "source": []
  }
 ],
 "metadata": {
  "kernelspec": {
   "display_name": "Python 3 (ipykernel)",
   "language": "python",
   "name": "python3"
  },
  "language_info": {
   "codemirror_mode": {
    "name": "ipython",
    "version": 3
   },
   "file_extension": ".py",
   "mimetype": "text/x-python",
   "name": "python",
   "nbconvert_exporter": "python",
   "pygments_lexer": "ipython3",
   "version": "3.9.6"
  }
 },
 "nbformat": 4,
 "nbformat_minor": 5
}
